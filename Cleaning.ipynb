{
 "cells": [
  {
   "cell_type": "markdown",
   "metadata": {},
   "source": [
    "# Data Cleaning (CSV, API, Web Scrapping)"
   ]
  },
  {
   "cell_type": "code",
   "execution_count": 1,
   "metadata": {},
   "outputs": [],
   "source": [
    "import pandas as pd\n",
    "import re\n",
    "import numpy as np\n",
    "import requests\n",
    "from bs4 import BeautifulSoup\n",
    "import matplotlib.pyplot as plt\n",
    "import seaborn as sns"
   ]
  },
  {
   "cell_type": "markdown",
   "metadata": {},
   "source": [
    "### Cleaning CSV"
   ]
  },
  {
   "cell_type": "markdown",
   "metadata": {},
   "source": [
    "**Import Dataset (CSV)**\n"
   ]
  },
  {
   "cell_type": "code",
   "execution_count": 2,
   "metadata": {},
   "outputs": [
    {
     "name": "stdout",
     "output_type": "stream",
     "text": [
      "(115988, 31)\n"
     ]
    },
    {
     "data": {
      "text/html": [
       "<div>\n",
       "<style scoped>\n",
       "    .dataframe tbody tr th:only-of-type {\n",
       "        vertical-align: middle;\n",
       "    }\n",
       "\n",
       "    .dataframe tbody tr th {\n",
       "        vertical-align: top;\n",
       "    }\n",
       "\n",
       "    .dataframe thead th {\n",
       "        text-align: right;\n",
       "    }\n",
       "</style>\n",
       "<table border=\"1\" class=\"dataframe\">\n",
       "  <thead>\n",
       "    <tr style=\"text-align: right;\">\n",
       "      <th></th>\n",
       "      <th>Unnamed: 0</th>\n",
       "      <th>TourRank</th>\n",
       "      <th>RID</th>\n",
       "      <th>Tour</th>\n",
       "      <th>GameD</th>\n",
       "      <th>Year</th>\n",
       "      <th>Name_1</th>\n",
       "      <th>Name_2</th>\n",
       "      <th>Result</th>\n",
       "      <th>GRes</th>\n",
       "      <th>...</th>\n",
       "      <th>K12</th>\n",
       "      <th>P2</th>\n",
       "      <th>P1</th>\n",
       "      <th>ClfML</th>\n",
       "      <th>ClfSC</th>\n",
       "      <th>P_2-0</th>\n",
       "      <th>P_0-2</th>\n",
       "      <th>P_2-1</th>\n",
       "      <th>P_1-2</th>\n",
       "      <th>REGR</th>\n",
       "    </tr>\n",
       "  </thead>\n",
       "  <tbody>\n",
       "    <tr>\n",
       "      <th>0</th>\n",
       "      <td>0</td>\n",
       "      <td>2</td>\n",
       "      <td>1</td>\n",
       "      <td>European Open - Antwerp</td>\n",
       "      <td>10/13/2019</td>\n",
       "      <td>2019</td>\n",
       "      <td>Carlos Taberner</td>\n",
       "      <td>Antoine Hoang</td>\n",
       "      <td>2-6 6-3 2-6</td>\n",
       "      <td>0</td>\n",
       "      <td>...</td>\n",
       "      <td>0.238095</td>\n",
       "      <td>0.585277</td>\n",
       "      <td>0.414723</td>\n",
       "      <td>0</td>\n",
       "      <td>1</td>\n",
       "      <td>0.253032</td>\n",
       "      <td>0.380474</td>\n",
       "      <td>0.139216</td>\n",
       "      <td>0.227278</td>\n",
       "      <td>23.023090</td>\n",
       "    </tr>\n",
       "    <tr>\n",
       "      <th>1</th>\n",
       "      <td>1</td>\n",
       "      <td>2</td>\n",
       "      <td>1</td>\n",
       "      <td>European Open - Antwerp</td>\n",
       "      <td>10/13/2019</td>\n",
       "      <td>2019</td>\n",
       "      <td>Kamil Majchrzak</td>\n",
       "      <td>Sergiy Stakhovsky</td>\n",
       "      <td>6-3 6-3</td>\n",
       "      <td>1</td>\n",
       "      <td>...</td>\n",
       "      <td>NaN</td>\n",
       "      <td>0.534566</td>\n",
       "      <td>0.465434</td>\n",
       "      <td>0</td>\n",
       "      <td>0</td>\n",
       "      <td>0.337890</td>\n",
       "      <td>0.294525</td>\n",
       "      <td>0.180302</td>\n",
       "      <td>0.187284</td>\n",
       "      <td>23.066616</td>\n",
       "    </tr>\n",
       "    <tr>\n",
       "      <th>2</th>\n",
       "      <td>2</td>\n",
       "      <td>2</td>\n",
       "      <td>1</td>\n",
       "      <td>European Open - Antwerp</td>\n",
       "      <td>10/13/2019</td>\n",
       "      <td>2019</td>\n",
       "      <td>Marco Trungelliti</td>\n",
       "      <td>Jaume Antoni Munar Clar</td>\n",
       "      <td>4-6 3-6</td>\n",
       "      <td>0</td>\n",
       "      <td>...</td>\n",
       "      <td>NaN</td>\n",
       "      <td>0.604345</td>\n",
       "      <td>0.395655</td>\n",
       "      <td>0</td>\n",
       "      <td>1</td>\n",
       "      <td>0.276434</td>\n",
       "      <td>0.387373</td>\n",
       "      <td>0.146444</td>\n",
       "      <td>0.189750</td>\n",
       "      <td>23.204985</td>\n",
       "    </tr>\n",
       "    <tr>\n",
       "      <th>3</th>\n",
       "      <td>3</td>\n",
       "      <td>2</td>\n",
       "      <td>1</td>\n",
       "      <td>European Open - Antwerp</td>\n",
       "      <td>10/13/2019</td>\n",
       "      <td>2019</td>\n",
       "      <td>Norbert Gombos</td>\n",
       "      <td>Kyle Edmund</td>\n",
       "      <td>6-4 6-7 6-3</td>\n",
       "      <td>1</td>\n",
       "      <td>...</td>\n",
       "      <td>NaN</td>\n",
       "      <td>0.731359</td>\n",
       "      <td>0.268641</td>\n",
       "      <td>0</td>\n",
       "      <td>1</td>\n",
       "      <td>0.161738</td>\n",
       "      <td>0.493853</td>\n",
       "      <td>0.138907</td>\n",
       "      <td>0.205501</td>\n",
       "      <td>23.505814</td>\n",
       "    </tr>\n",
       "    <tr>\n",
       "      <th>4</th>\n",
       "      <td>4</td>\n",
       "      <td>2</td>\n",
       "      <td>1</td>\n",
       "      <td>European Open - Antwerp</td>\n",
       "      <td>10/13/2019</td>\n",
       "      <td>2019</td>\n",
       "      <td>Paolo Lorenzi</td>\n",
       "      <td>Arnaud Bovy</td>\n",
       "      <td>6-7 6-1 6-4</td>\n",
       "      <td>1</td>\n",
       "      <td>...</td>\n",
       "      <td>0.086957</td>\n",
       "      <td>0.178389</td>\n",
       "      <td>0.821611</td>\n",
       "      <td>1</td>\n",
       "      <td>0</td>\n",
       "      <td>0.516236</td>\n",
       "      <td>0.128632</td>\n",
       "      <td>0.268843</td>\n",
       "      <td>0.086289</td>\n",
       "      <td>22.672202</td>\n",
       "    </tr>\n",
       "  </tbody>\n",
       "</table>\n",
       "<p>5 rows × 31 columns</p>\n",
       "</div>"
      ],
      "text/plain": [
       "   Unnamed: 0  TourRank  RID                     Tour       GameD  Year  \\\n",
       "0           0         2    1  European Open - Antwerp  10/13/2019  2019   \n",
       "1           1         2    1  European Open - Antwerp  10/13/2019  2019   \n",
       "2           2         2    1  European Open - Antwerp  10/13/2019  2019   \n",
       "3           3         2    1  European Open - Antwerp  10/13/2019  2019   \n",
       "4           4         2    1  European Open - Antwerp  10/13/2019  2019   \n",
       "\n",
       "              Name_1                   Name_2       Result  GRes  ...  \\\n",
       "0    Carlos Taberner            Antoine Hoang  2-6 6-3 2-6     0  ...   \n",
       "1    Kamil Majchrzak        Sergiy Stakhovsky      6-3 6-3     1  ...   \n",
       "2  Marco Trungelliti  Jaume Antoni Munar Clar      4-6 3-6     0  ...   \n",
       "3     Norbert Gombos              Kyle Edmund  6-4 6-7 6-3     1  ...   \n",
       "4      Paolo Lorenzi              Arnaud Bovy  6-7 6-1 6-4     1  ...   \n",
       "\n",
       "        K12        P2        P1  ClfML  ClfSC     P_2-0     P_0-2     P_2-1  \\\n",
       "0  0.238095  0.585277  0.414723      0      1  0.253032  0.380474  0.139216   \n",
       "1       NaN  0.534566  0.465434      0      0  0.337890  0.294525  0.180302   \n",
       "2       NaN  0.604345  0.395655      0      1  0.276434  0.387373  0.146444   \n",
       "3       NaN  0.731359  0.268641      0      1  0.161738  0.493853  0.138907   \n",
       "4  0.086957  0.178389  0.821611      1      0  0.516236  0.128632  0.268843   \n",
       "\n",
       "      P_1-2       REGR  \n",
       "0  0.227278  23.023090  \n",
       "1  0.187284  23.066616  \n",
       "2  0.189750  23.204985  \n",
       "3  0.205501  23.505814  \n",
       "4  0.086289  22.672202  \n",
       "\n",
       "[5 rows x 31 columns]"
      ]
     },
     "execution_count": 2,
     "metadata": {},
     "output_type": "execute_result"
    }
   ],
   "source": [
    "data=pd.read_csv('src/atp_picks.csv',encoding='latin-1') #Incluir encoding='latin-1'o UTF-8/16 para que pueda abrir el archivo\n",
    "print(data.shape) # ver cuantas filas/columnas tiene el archivo\n",
    "data.head()"
   ]
  },
  {
   "cell_type": "markdown",
   "metadata": {},
   "source": [
    "**Checkout columns:**"
   ]
  },
  {
   "cell_type": "code",
   "execution_count": 3,
   "metadata": {},
   "outputs": [
    {
     "data": {
      "text/plain": [
       "Index(['Unnamed: 0', 'TourRank', 'RID', 'Tour', 'GameD', 'Year', 'Name_1',\n",
       "       'Name_2', 'Result', 'GRes', 'PS', 'TTL', 'TPoints', 'K1', 'K2', 'F1',\n",
       "       'F2', 'SETS', 'K20', 'K02', 'K21', 'K12', 'P2', 'P1', 'ClfML', 'ClfSC',\n",
       "       'P_2-0', 'P_0-2', 'P_2-1', 'P_1-2', 'REGR'],\n",
       "      dtype='object')"
      ]
     },
     "execution_count": 3,
     "metadata": {},
     "output_type": "execute_result"
    }
   ],
   "source": [
    "data.columns"
   ]
  },
  {
   "cell_type": "markdown",
   "metadata": {},
   "source": [
    "**Drop columns not useful for the analysis:**"
   ]
  },
  {
   "cell_type": "code",
   "execution_count": 4,
   "metadata": {},
   "outputs": [],
   "source": [
    "data=data.drop(columns=[\"Unnamed: 0\",\"GameD\",'K1','K2', 'F1','K20', 'K02', 'K21', 'K12', 'P2', 'P1', 'ClfML', 'ClfSC',\n",
    "       'P_2-0', 'P_0-2', 'P_2-1', 'P_1-2','REGR',\"TPoints\",'F2',\"PS\"])"
   ]
  },
  {
   "cell_type": "code",
   "execution_count": 5,
   "metadata": {},
   "outputs": [
    {
     "data": {
      "text/plain": [
       "Index(['TourRank', 'RID', 'Tour', 'Year', 'Name_1', 'Name_2', 'Result', 'GRes',\n",
       "       'TTL', 'SETS'],\n",
       "      dtype='object')"
      ]
     },
     "execution_count": 5,
     "metadata": {},
     "output_type": "execute_result"
    }
   ],
   "source": [
    "data.columns\n"
   ]
  },
  {
   "cell_type": "markdown",
   "metadata": {},
   "source": [
    "**Check columns with null rows:**"
   ]
  },
  {
   "cell_type": "code",
   "execution_count": 6,
   "metadata": {},
   "outputs": [
    {
     "data": {
      "text/plain": [
       "TourRank    0\n",
       "RID         0\n",
       "Tour        0\n",
       "Year        0\n",
       "Name_1      0\n",
       "Name_2      0\n",
       "Result      0\n",
       "GRes        0\n",
       "TTL         0\n",
       "SETS        0\n",
       "dtype: int64"
      ]
     },
     "execution_count": 6,
     "metadata": {},
     "output_type": "execute_result"
    }
   ],
   "source": [
    "data.isnull().sum()\n"
   ]
  },
  {
   "cell_type": "markdown",
   "metadata": {},
   "source": [
    "**Rename columns:**"
   ]
  },
  {
   "cell_type": "code",
   "execution_count": 7,
   "metadata": {},
   "outputs": [],
   "source": [
    "data=data.rename(columns={\"TourRank\":\"Ranking\",\"Tour\":\"Tournament\",\"Name_1\":\"Player_1\",\"Name_2\":\"Player_2\",\"SETS\":\"Total_sets\",\"TTL\":\"Total_games\",\"GRes\":\"Winner\",\"RID\":\"Round\"})"
   ]
  },
  {
   "cell_type": "code",
   "execution_count": 8,
   "metadata": {},
   "outputs": [
    {
     "data": {
      "text/plain": [
       "M15 Tabarka            1829\n",
       "M15 Antalya            1823\n",
       "M15 Cancun             1725\n",
       "M15 Sharm El Sheikh    1070\n",
       "M15 Monastir            855\n",
       "Name: Tournament, dtype: int64"
      ]
     },
     "execution_count": 8,
     "metadata": {},
     "output_type": "execute_result"
    }
   ],
   "source": [
    "data[\"Tournament\"].value_counts().head()\n"
   ]
  },
  {
   "cell_type": "code",
   "execution_count": 9,
   "metadata": {},
   "outputs": [
    {
     "data": {
      "text/plain": [
       "2018    45401\n",
       "2019    40080\n",
       "2017    30507\n",
       "Name: Year, dtype: int64"
      ]
     },
     "execution_count": 9,
     "metadata": {},
     "output_type": "execute_result"
    }
   ],
   "source": [
    "data[\"Year\"].value_counts()"
   ]
  },
  {
   "cell_type": "markdown",
   "metadata": {},
   "source": [
    "**Groupby Grand Slam tournaments and delete the other ones:**"
   ]
  },
  {
   "cell_type": "code",
   "execution_count": 10,
   "metadata": {},
   "outputs": [
    {
     "data": {
      "text/plain": [
       "1    113430\n",
       "2      2558\n",
       "Name: Grand_Slams, dtype: int64"
      ]
     },
     "execution_count": 10,
     "metadata": {},
     "output_type": "execute_result"
    }
   ],
   "source": [
    "slams=[\"Australian Open - Melbourne\",\"French Open - Paris\",\"Wimbledon - London\",\"U.S. Open - New York\"]\n",
    "data[\"Grand_Slams\"]=np.where(data[\"Tournament\"].isin(slams),2,1)\n",
    "data[\"Grand_Slams\"].value_counts()"
   ]
  },
  {
   "cell_type": "markdown",
   "metadata": {},
   "source": [
    "**Drop Rounds < 4 (Challenges):**"
   ]
  },
  {
   "cell_type": "code",
   "execution_count": 11,
   "metadata": {},
   "outputs": [],
   "source": [
    "data.drop(data[data['Grand_Slams']<2].index, inplace = True)\n",
    "data.drop(data[data['Round']<4].index, inplace = True)"
   ]
  },
  {
   "cell_type": "code",
   "execution_count": 12,
   "metadata": {},
   "outputs": [],
   "source": [
    "data['Tournament'] = data['Tournament'].replace(\"Australian Open - Melbourne\",\"Australian Open\")\n",
    "data['Tournament'] = data['Tournament'].replace(\"French Open - Paris\",\"Roland Garros\")\n",
    "data['Tournament'] = data['Tournament'].replace(\"Wimbledon - London\",\"Wimbledon\")\n",
    "data['Tournament'] = data['Tournament'].replace(\"U.S. Open - New York\",\"US Open\")"
   ]
  },
  {
   "cell_type": "code",
   "execution_count": 13,
   "metadata": {},
   "outputs": [
    {
     "data": {
      "text/plain": [
       "3    700\n",
       "2    643\n",
       "Name: Total_sets, dtype: int64"
      ]
     },
     "execution_count": 13,
     "metadata": {},
     "output_type": "execute_result"
    }
   ],
   "source": [
    "data['Total_sets'].value_counts()"
   ]
  },
  {
   "cell_type": "markdown",
   "metadata": {},
   "source": [
    "**Create \"Winner\" column for winner players:**"
   ]
  },
  {
   "cell_type": "code",
   "execution_count": 14,
   "metadata": {},
   "outputs": [
    {
     "data": {
      "text/plain": [
       "Rafael Nadal      62\n",
       "Roger Federer     45\n",
       "Novak Djokovic    43\n",
       "Dominic Thiem     30\n",
       "Marin Cilic       30\n",
       "Name: Winner, dtype: int64"
      ]
     },
     "execution_count": 14,
     "metadata": {},
     "output_type": "execute_result"
    }
   ],
   "source": [
    "data['Winner'] = data['Winner'].replace(0, data['Player_2'])\n",
    "data['Winner'] = data['Winner'].replace(1, data['Player_1'])\n",
    "data['Winner'].value_counts().head()"
   ]
  },
  {
   "cell_type": "markdown",
   "metadata": {},
   "source": [
    "**Create \"Looser\" column for looser players:**"
   ]
  },
  {
   "cell_type": "code",
   "execution_count": 15,
   "metadata": {},
   "outputs": [
    {
     "data": {
      "text/plain": [
       "1    700\n",
       "0    643\n",
       "Name: Looser, dtype: int64"
      ]
     },
     "execution_count": 15,
     "metadata": {},
     "output_type": "execute_result"
    }
   ],
   "source": [
    "data['Looser']=np.where(data[\"Winner\"]==data[\"Player_1\"],0,1)\n",
    "data['Looser'].value_counts()"
   ]
  },
  {
   "cell_type": "code",
   "execution_count": 16,
   "metadata": {},
   "outputs": [
    {
     "data": {
      "text/plain": [
       "Jan-Lennard Struff      11\n",
       "Albert Ramos-Vinolas    11\n",
       "Adrian Mannarino        11\n",
       "Robin Haase             11\n",
       "Damir Dzumhur           11\n",
       "Name: Looser, dtype: int64"
      ]
     },
     "execution_count": 16,
     "metadata": {},
     "output_type": "execute_result"
    }
   ],
   "source": [
    "data['Looser'] = data['Looser'].replace(1, data['Player_1'])\n",
    "data['Looser'] = data['Looser'].replace(0, data['Player_2'])\n",
    "data['Looser'].value_counts().head()"
   ]
  },
  {
   "cell_type": "code",
   "execution_count": 17,
   "metadata": {},
   "outputs": [
    {
     "data": {
      "text/plain": [
       "Index(['Ranking', 'Round', 'Tournament', 'Year', 'Player_1', 'Player_2',\n",
       "       'Result', 'Winner', 'Total_games', 'Total_sets', 'Grand_Slams',\n",
       "       'Looser'],\n",
       "      dtype='object')"
      ]
     },
     "execution_count": 17,
     "metadata": {},
     "output_type": "execute_result"
    }
   ],
   "source": [
    "data.columns"
   ]
  },
  {
   "cell_type": "markdown",
   "metadata": {},
   "source": [
    "**Change the order of columns:**"
   ]
  },
  {
   "cell_type": "code",
   "execution_count": 18,
   "metadata": {},
   "outputs": [],
   "source": [
    "column_order=['Year','Tournament','Round','Player_1', 'Player_2','Result','Winner','Ranking', \n",
    "        'Total_games', 'Total_sets','Looser', 'Grand_Slams']\n",
    "data=data[column_order]"
   ]
  },
  {
   "cell_type": "code",
   "execution_count": 19,
   "metadata": {},
   "outputs": [],
   "source": [
    "data_analysis = data[['Year','Tournament','Round','Player_1', 'Player_2','Result','Winner','Ranking', \n",
    "        'Total_games', 'Total_sets','Looser', 'Grand_Slams']]"
   ]
  },
  {
   "cell_type": "code",
   "execution_count": 20,
   "metadata": {},
   "outputs": [],
   "source": [
    "data_analysis.to_csv(\"src/atp_clean.csv\")"
   ]
  },
  {
   "cell_type": "markdown",
   "metadata": {},
   "source": [
    "**Look for winners of last Grand Slams (2017,2018,2019):**"
   ]
  },
  {
   "cell_type": "code",
   "execution_count": 42,
   "metadata": {},
   "outputs": [
    {
     "data": {
      "text/html": [
       "<div>\n",
       "<style scoped>\n",
       "    .dataframe tbody tr th:only-of-type {\n",
       "        vertical-align: middle;\n",
       "    }\n",
       "\n",
       "    .dataframe tbody tr th {\n",
       "        vertical-align: top;\n",
       "    }\n",
       "\n",
       "    .dataframe thead th {\n",
       "        text-align: right;\n",
       "    }\n",
       "</style>\n",
       "<table border=\"1\" class=\"dataframe\">\n",
       "  <thead>\n",
       "    <tr style=\"text-align: right;\">\n",
       "      <th></th>\n",
       "      <th>Round</th>\n",
       "      <th>Total_games</th>\n",
       "      <th>Total_sets</th>\n",
       "    </tr>\n",
       "    <tr>\n",
       "      <th>Winner</th>\n",
       "      <th></th>\n",
       "      <th></th>\n",
       "      <th></th>\n",
       "    </tr>\n",
       "  </thead>\n",
       "  <tbody>\n",
       "    <tr>\n",
       "      <th>Novak Djokovic</th>\n",
       "      <td>3</td>\n",
       "      <td>29.333333</td>\n",
       "      <td>2.666667</td>\n",
       "    </tr>\n",
       "    <tr>\n",
       "      <th>Rafael Nadal</th>\n",
       "      <td>5</td>\n",
       "      <td>28.000000</td>\n",
       "      <td>2.600000</td>\n",
       "    </tr>\n",
       "    <tr>\n",
       "      <th>Roger Federer</th>\n",
       "      <td>3</td>\n",
       "      <td>27.333333</td>\n",
       "      <td>2.666667</td>\n",
       "    </tr>\n",
       "  </tbody>\n",
       "</table>\n",
       "</div>"
      ],
      "text/plain": [
       "                Round  Total_games  Total_sets\n",
       "Winner                                        \n",
       "Novak Djokovic      3    29.333333    2.666667\n",
       "Rafael Nadal        5    28.000000    2.600000\n",
       "Roger Federer       3    27.333333    2.666667"
      ]
     },
     "execution_count": 42,
     "metadata": {},
     "output_type": "execute_result"
    }
   ],
   "source": [
    "filter=data[(data[\"Round\"]==12)]\n",
    "GS_winners=filter.groupby(\"Winner\").agg({\"Round\":\"count\",\"Total_games\":\"mean\",\"Total_sets\":\"mean\"})\n",
    "GS_winners"
   ]
  },
  {
   "cell_type": "code",
   "execution_count": null,
   "metadata": {},
   "outputs": [],
   "source": [
    "GS_winners.sort_values(\"Round\",ascending=False).head(10)"
   ]
  },
  {
   "cell_type": "code",
   "execution_count": 47,
   "metadata": {},
   "outputs": [
    {
     "ename": "AttributeError",
     "evalue": "'Rectangle' object has no property 'subplots'",
     "output_type": "error",
     "traceback": [
      "\u001b[0;31m---------------------------------------------------------------------------\u001b[0m",
      "\u001b[0;31mAttributeError\u001b[0m                            Traceback (most recent call last)",
      "\u001b[0;32m<ipython-input-47-526f64449e6f>\u001b[0m in \u001b[0;36m<module>\u001b[0;34m\u001b[0m\n\u001b[1;32m      3\u001b[0m \u001b[0mtitle2\u001b[0m \u001b[0;34m=\u001b[0m \u001b[0;34m\"Winners of Grand Slam Titles in the past three years\"\u001b[0m\u001b[0;34m\u001b[0m\u001b[0;34m\u001b[0m\u001b[0m\n\u001b[1;32m      4\u001b[0m \u001b[0mfig\u001b[0m\u001b[0;34m,\u001b[0m \u001b[0max\u001b[0m \u001b[0;34m=\u001b[0m \u001b[0mplt\u001b[0m\u001b[0;34m.\u001b[0m\u001b[0msubplots\u001b[0m\u001b[0;34m(\u001b[0m\u001b[0mfigsize\u001b[0m\u001b[0;34m=\u001b[0m\u001b[0;34m(\u001b[0m\u001b[0;36m23\u001b[0m\u001b[0;34m,\u001b[0m\u001b[0;36m8\u001b[0m\u001b[0;34m)\u001b[0m\u001b[0;34m)\u001b[0m\u001b[0;34m\u001b[0m\u001b[0;34m\u001b[0m\u001b[0m\n\u001b[0;32m----> 5\u001b[0;31m \u001b[0mbarplot\u001b[0m \u001b[0;34m=\u001b[0m \u001b[0msns\u001b[0m\u001b[0;34m.\u001b[0m\u001b[0mbarplot\u001b[0m\u001b[0;34m(\u001b[0m\u001b[0msubplots\u001b[0m\u001b[0;34m=\u001b[0m\u001b[0;32mTrue\u001b[0m\u001b[0;34m)\u001b[0m\u001b[0;34m\u001b[0m\u001b[0;34m\u001b[0m\u001b[0m\n\u001b[0m\u001b[1;32m      6\u001b[0m \u001b[0mplt\u001b[0m\u001b[0;34m.\u001b[0m\u001b[0mtitle\u001b[0m\u001b[0;34m(\u001b[0m\u001b[0mtitle2\u001b[0m\u001b[0;34m+\u001b[0m \u001b[0;34m\"\\n\"\u001b[0m\u001b[0;34m,\u001b[0m \u001b[0mfontsize\u001b[0m\u001b[0;34m=\u001b[0m\u001b[0;36m22\u001b[0m\u001b[0;34m)\u001b[0m\u001b[0;34m\u001b[0m\u001b[0;34m\u001b[0m\u001b[0m\n",
      "\u001b[0;32m/usr/local/lib/python3.7/site-packages/seaborn/categorical.py\u001b[0m in \u001b[0;36mbarplot\u001b[0;34m(x, y, hue, data, order, hue_order, estimator, ci, n_boot, units, seed, orient, color, palette, saturation, errcolor, errwidth, capsize, dodge, ax, **kwargs)\u001b[0m\n\u001b[1;32m   3153\u001b[0m         \u001b[0max\u001b[0m \u001b[0;34m=\u001b[0m \u001b[0mplt\u001b[0m\u001b[0;34m.\u001b[0m\u001b[0mgca\u001b[0m\u001b[0;34m(\u001b[0m\u001b[0;34m)\u001b[0m\u001b[0;34m\u001b[0m\u001b[0;34m\u001b[0m\u001b[0m\n\u001b[1;32m   3154\u001b[0m \u001b[0;34m\u001b[0m\u001b[0m\n\u001b[0;32m-> 3155\u001b[0;31m     \u001b[0mplotter\u001b[0m\u001b[0;34m.\u001b[0m\u001b[0mplot\u001b[0m\u001b[0;34m(\u001b[0m\u001b[0max\u001b[0m\u001b[0;34m,\u001b[0m \u001b[0mkwargs\u001b[0m\u001b[0;34m)\u001b[0m\u001b[0;34m\u001b[0m\u001b[0;34m\u001b[0m\u001b[0m\n\u001b[0m\u001b[1;32m   3156\u001b[0m     \u001b[0;32mreturn\u001b[0m \u001b[0max\u001b[0m\u001b[0;34m\u001b[0m\u001b[0;34m\u001b[0m\u001b[0m\n\u001b[1;32m   3157\u001b[0m \u001b[0;34m\u001b[0m\u001b[0m\n",
      "\u001b[0;32m/usr/local/lib/python3.7/site-packages/seaborn/categorical.py\u001b[0m in \u001b[0;36mplot\u001b[0;34m(self, ax, bar_kws)\u001b[0m\n\u001b[1;32m   1667\u001b[0m     \u001b[0;32mdef\u001b[0m \u001b[0mplot\u001b[0m\u001b[0;34m(\u001b[0m\u001b[0mself\u001b[0m\u001b[0;34m,\u001b[0m \u001b[0max\u001b[0m\u001b[0;34m,\u001b[0m \u001b[0mbar_kws\u001b[0m\u001b[0;34m)\u001b[0m\u001b[0;34m:\u001b[0m\u001b[0;34m\u001b[0m\u001b[0;34m\u001b[0m\u001b[0m\n\u001b[1;32m   1668\u001b[0m         \u001b[0;34m\"\"\"Make the plot.\"\"\"\u001b[0m\u001b[0;34m\u001b[0m\u001b[0;34m\u001b[0m\u001b[0m\n\u001b[0;32m-> 1669\u001b[0;31m         \u001b[0mself\u001b[0m\u001b[0;34m.\u001b[0m\u001b[0mdraw_bars\u001b[0m\u001b[0;34m(\u001b[0m\u001b[0max\u001b[0m\u001b[0;34m,\u001b[0m \u001b[0mbar_kws\u001b[0m\u001b[0;34m)\u001b[0m\u001b[0;34m\u001b[0m\u001b[0;34m\u001b[0m\u001b[0m\n\u001b[0m\u001b[1;32m   1670\u001b[0m         \u001b[0mself\u001b[0m\u001b[0;34m.\u001b[0m\u001b[0mannotate_axes\u001b[0m\u001b[0;34m(\u001b[0m\u001b[0max\u001b[0m\u001b[0;34m)\u001b[0m\u001b[0;34m\u001b[0m\u001b[0;34m\u001b[0m\u001b[0m\n\u001b[1;32m   1671\u001b[0m         \u001b[0;32mif\u001b[0m \u001b[0mself\u001b[0m\u001b[0;34m.\u001b[0m\u001b[0morient\u001b[0m \u001b[0;34m==\u001b[0m \u001b[0;34m\"h\"\u001b[0m\u001b[0;34m:\u001b[0m\u001b[0;34m\u001b[0m\u001b[0;34m\u001b[0m\u001b[0m\n",
      "\u001b[0;32m/usr/local/lib/python3.7/site-packages/seaborn/categorical.py\u001b[0m in \u001b[0;36mdraw_bars\u001b[0;34m(self, ax, kws)\u001b[0m\n\u001b[1;32m   1633\u001b[0m             \u001b[0;31m# Draw the bars\u001b[0m\u001b[0;34m\u001b[0m\u001b[0;34m\u001b[0m\u001b[0;34m\u001b[0m\u001b[0m\n\u001b[1;32m   1634\u001b[0m             barfunc(barpos, self.statistic, self.width,\n\u001b[0;32m-> 1635\u001b[0;31m                     color=self.colors, align=\"center\", **kws)\n\u001b[0m\u001b[1;32m   1636\u001b[0m \u001b[0;34m\u001b[0m\u001b[0m\n\u001b[1;32m   1637\u001b[0m             \u001b[0;31m# Draw the confidence intervals\u001b[0m\u001b[0;34m\u001b[0m\u001b[0;34m\u001b[0m\u001b[0;34m\u001b[0m\u001b[0m\n",
      "\u001b[0;32m/usr/local/lib/python3.7/site-packages/matplotlib/__init__.py\u001b[0m in \u001b[0;36minner\u001b[0;34m(ax, data, *args, **kwargs)\u001b[0m\n\u001b[1;32m   1563\u001b[0m     \u001b[0;32mdef\u001b[0m \u001b[0minner\u001b[0m\u001b[0;34m(\u001b[0m\u001b[0max\u001b[0m\u001b[0;34m,\u001b[0m \u001b[0;34m*\u001b[0m\u001b[0margs\u001b[0m\u001b[0;34m,\u001b[0m \u001b[0mdata\u001b[0m\u001b[0;34m=\u001b[0m\u001b[0;32mNone\u001b[0m\u001b[0;34m,\u001b[0m \u001b[0;34m**\u001b[0m\u001b[0mkwargs\u001b[0m\u001b[0;34m)\u001b[0m\u001b[0;34m:\u001b[0m\u001b[0;34m\u001b[0m\u001b[0;34m\u001b[0m\u001b[0m\n\u001b[1;32m   1564\u001b[0m         \u001b[0;32mif\u001b[0m \u001b[0mdata\u001b[0m \u001b[0;32mis\u001b[0m \u001b[0;32mNone\u001b[0m\u001b[0;34m:\u001b[0m\u001b[0;34m\u001b[0m\u001b[0;34m\u001b[0m\u001b[0m\n\u001b[0;32m-> 1565\u001b[0;31m             \u001b[0;32mreturn\u001b[0m \u001b[0mfunc\u001b[0m\u001b[0;34m(\u001b[0m\u001b[0max\u001b[0m\u001b[0;34m,\u001b[0m \u001b[0;34m*\u001b[0m\u001b[0mmap\u001b[0m\u001b[0;34m(\u001b[0m\u001b[0msanitize_sequence\u001b[0m\u001b[0;34m,\u001b[0m \u001b[0margs\u001b[0m\u001b[0;34m)\u001b[0m\u001b[0;34m,\u001b[0m \u001b[0;34m**\u001b[0m\u001b[0mkwargs\u001b[0m\u001b[0;34m)\u001b[0m\u001b[0;34m\u001b[0m\u001b[0;34m\u001b[0m\u001b[0m\n\u001b[0m\u001b[1;32m   1566\u001b[0m \u001b[0;34m\u001b[0m\u001b[0m\n\u001b[1;32m   1567\u001b[0m         \u001b[0mbound\u001b[0m \u001b[0;34m=\u001b[0m \u001b[0mnew_sig\u001b[0m\u001b[0;34m.\u001b[0m\u001b[0mbind\u001b[0m\u001b[0;34m(\u001b[0m\u001b[0max\u001b[0m\u001b[0;34m,\u001b[0m \u001b[0;34m*\u001b[0m\u001b[0margs\u001b[0m\u001b[0;34m,\u001b[0m \u001b[0;34m**\u001b[0m\u001b[0mkwargs\u001b[0m\u001b[0;34m)\u001b[0m\u001b[0;34m\u001b[0m\u001b[0;34m\u001b[0m\u001b[0m\n",
      "\u001b[0;32m/usr/local/lib/python3.7/site-packages/matplotlib/axes/_axes.py\u001b[0m in \u001b[0;36mbar\u001b[0;34m(self, x, height, width, bottom, align, **kwargs)\u001b[0m\n\u001b[1;32m   2395\u001b[0m                 \u001b[0mlabel\u001b[0m\u001b[0;34m=\u001b[0m\u001b[0;34m'_nolegend_'\u001b[0m\u001b[0;34m,\u001b[0m\u001b[0;34m\u001b[0m\u001b[0;34m\u001b[0m\u001b[0m\n\u001b[1;32m   2396\u001b[0m                 )\n\u001b[0;32m-> 2397\u001b[0;31m             \u001b[0mr\u001b[0m\u001b[0;34m.\u001b[0m\u001b[0mupdate\u001b[0m\u001b[0;34m(\u001b[0m\u001b[0mkwargs\u001b[0m\u001b[0;34m)\u001b[0m\u001b[0;34m\u001b[0m\u001b[0;34m\u001b[0m\u001b[0m\n\u001b[0m\u001b[1;32m   2398\u001b[0m             \u001b[0mr\u001b[0m\u001b[0;34m.\u001b[0m\u001b[0mget_path\u001b[0m\u001b[0;34m(\u001b[0m\u001b[0;34m)\u001b[0m\u001b[0;34m.\u001b[0m\u001b[0m_interpolation_steps\u001b[0m \u001b[0;34m=\u001b[0m \u001b[0;36m100\u001b[0m\u001b[0;34m\u001b[0m\u001b[0;34m\u001b[0m\u001b[0m\n\u001b[1;32m   2399\u001b[0m             \u001b[0;32mif\u001b[0m \u001b[0morientation\u001b[0m \u001b[0;34m==\u001b[0m \u001b[0;34m'vertical'\u001b[0m\u001b[0;34m:\u001b[0m\u001b[0;34m\u001b[0m\u001b[0;34m\u001b[0m\u001b[0m\n",
      "\u001b[0;32m/usr/local/lib/python3.7/site-packages/matplotlib/artist.py\u001b[0m in \u001b[0;36mupdate\u001b[0;34m(self, props)\u001b[0m\n\u001b[1;32m   1004\u001b[0m \u001b[0;34m\u001b[0m\u001b[0m\n\u001b[1;32m   1005\u001b[0m         \u001b[0;32mwith\u001b[0m \u001b[0mcbook\u001b[0m\u001b[0;34m.\u001b[0m\u001b[0m_setattr_cm\u001b[0m\u001b[0;34m(\u001b[0m\u001b[0mself\u001b[0m\u001b[0;34m,\u001b[0m \u001b[0meventson\u001b[0m\u001b[0;34m=\u001b[0m\u001b[0;32mFalse\u001b[0m\u001b[0;34m)\u001b[0m\u001b[0;34m:\u001b[0m\u001b[0;34m\u001b[0m\u001b[0;34m\u001b[0m\u001b[0m\n\u001b[0;32m-> 1006\u001b[0;31m             \u001b[0mret\u001b[0m \u001b[0;34m=\u001b[0m \u001b[0;34m[\u001b[0m\u001b[0m_update_property\u001b[0m\u001b[0;34m(\u001b[0m\u001b[0mself\u001b[0m\u001b[0;34m,\u001b[0m \u001b[0mk\u001b[0m\u001b[0;34m,\u001b[0m \u001b[0mv\u001b[0m\u001b[0;34m)\u001b[0m \u001b[0;32mfor\u001b[0m \u001b[0mk\u001b[0m\u001b[0;34m,\u001b[0m \u001b[0mv\u001b[0m \u001b[0;32min\u001b[0m \u001b[0mprops\u001b[0m\u001b[0;34m.\u001b[0m\u001b[0mitems\u001b[0m\u001b[0;34m(\u001b[0m\u001b[0;34m)\u001b[0m\u001b[0;34m]\u001b[0m\u001b[0;34m\u001b[0m\u001b[0;34m\u001b[0m\u001b[0m\n\u001b[0m\u001b[1;32m   1007\u001b[0m \u001b[0;34m\u001b[0m\u001b[0m\n\u001b[1;32m   1008\u001b[0m         \u001b[0;32mif\u001b[0m \u001b[0mlen\u001b[0m\u001b[0;34m(\u001b[0m\u001b[0mret\u001b[0m\u001b[0;34m)\u001b[0m\u001b[0;34m:\u001b[0m\u001b[0;34m\u001b[0m\u001b[0;34m\u001b[0m\u001b[0m\n",
      "\u001b[0;32m/usr/local/lib/python3.7/site-packages/matplotlib/artist.py\u001b[0m in \u001b[0;36m<listcomp>\u001b[0;34m(.0)\u001b[0m\n\u001b[1;32m   1004\u001b[0m \u001b[0;34m\u001b[0m\u001b[0m\n\u001b[1;32m   1005\u001b[0m         \u001b[0;32mwith\u001b[0m \u001b[0mcbook\u001b[0m\u001b[0;34m.\u001b[0m\u001b[0m_setattr_cm\u001b[0m\u001b[0;34m(\u001b[0m\u001b[0mself\u001b[0m\u001b[0;34m,\u001b[0m \u001b[0meventson\u001b[0m\u001b[0;34m=\u001b[0m\u001b[0;32mFalse\u001b[0m\u001b[0;34m)\u001b[0m\u001b[0;34m:\u001b[0m\u001b[0;34m\u001b[0m\u001b[0;34m\u001b[0m\u001b[0m\n\u001b[0;32m-> 1006\u001b[0;31m             \u001b[0mret\u001b[0m \u001b[0;34m=\u001b[0m \u001b[0;34m[\u001b[0m\u001b[0m_update_property\u001b[0m\u001b[0;34m(\u001b[0m\u001b[0mself\u001b[0m\u001b[0;34m,\u001b[0m \u001b[0mk\u001b[0m\u001b[0;34m,\u001b[0m \u001b[0mv\u001b[0m\u001b[0;34m)\u001b[0m \u001b[0;32mfor\u001b[0m \u001b[0mk\u001b[0m\u001b[0;34m,\u001b[0m \u001b[0mv\u001b[0m \u001b[0;32min\u001b[0m \u001b[0mprops\u001b[0m\u001b[0;34m.\u001b[0m\u001b[0mitems\u001b[0m\u001b[0;34m(\u001b[0m\u001b[0;34m)\u001b[0m\u001b[0;34m]\u001b[0m\u001b[0;34m\u001b[0m\u001b[0;34m\u001b[0m\u001b[0m\n\u001b[0m\u001b[1;32m   1007\u001b[0m \u001b[0;34m\u001b[0m\u001b[0m\n\u001b[1;32m   1008\u001b[0m         \u001b[0;32mif\u001b[0m \u001b[0mlen\u001b[0m\u001b[0;34m(\u001b[0m\u001b[0mret\u001b[0m\u001b[0;34m)\u001b[0m\u001b[0;34m:\u001b[0m\u001b[0;34m\u001b[0m\u001b[0;34m\u001b[0m\u001b[0m\n",
      "\u001b[0;32m/usr/local/lib/python3.7/site-packages/matplotlib/artist.py\u001b[0m in \u001b[0;36m_update_property\u001b[0;34m(self, k, v)\u001b[0m\n\u001b[1;32m   1000\u001b[0m                 \u001b[0;32mif\u001b[0m \u001b[0;32mnot\u001b[0m \u001b[0mcallable\u001b[0m\u001b[0;34m(\u001b[0m\u001b[0mfunc\u001b[0m\u001b[0;34m)\u001b[0m\u001b[0;34m:\u001b[0m\u001b[0;34m\u001b[0m\u001b[0;34m\u001b[0m\u001b[0m\n\u001b[1;32m   1001\u001b[0m                     raise AttributeError('{!r} object has no property {!r}'\n\u001b[0;32m-> 1002\u001b[0;31m                                          .format(type(self).__name__, k))\n\u001b[0m\u001b[1;32m   1003\u001b[0m                 \u001b[0;32mreturn\u001b[0m \u001b[0mfunc\u001b[0m\u001b[0;34m(\u001b[0m\u001b[0mv\u001b[0m\u001b[0;34m)\u001b[0m\u001b[0;34m\u001b[0m\u001b[0;34m\u001b[0m\u001b[0m\n\u001b[1;32m   1004\u001b[0m \u001b[0;34m\u001b[0m\u001b[0m\n",
      "\u001b[0;31mAttributeError\u001b[0m: 'Rectangle' object has no property 'subplots'"
     ]
    },
    {
     "data": {
      "image/png": "[encoded data removed]",
      "text/plain": [
       "<Figure size 1656x576 with 1 Axes>"
      ]
     },
     "metadata": {
      "needs_background": "light"
     },
     "output_type": "display_data"
    }
   ],
   "source": [
    "winner_filter=data[(data[\"Round\"]==12)]\n",
    "result2=winner_filter.groupby(\"Winner\").agg({\"Round\":\"count\",\"Total_games\":\"mean\",\"Total_sets\":\"mean\"})\n",
    "title2 = \"Winners of Grand Slam Titles in the past three years\"\n",
    "fig, ax = plt.subplots(figsize=(23,8))\n",
    "barplot = sns.barplot(subplots=True)\n",
    "plt.title(title2+ \"\\n\", fontsize=22)"
   ]
  },
  {
   "cell_type": "markdown",
   "metadata": {},
   "source": [
    "### API"
   ]
  },
  {
   "cell_type": "markdown",
   "metadata": {},
   "source": [
    "**API : Looking for personal details of winners of  last Grand Slams tournaments**"
   ]
  },
  {
   "cell_type": "markdown",
   "metadata": {},
   "source": [
    "*As we can see from dataset, Roger Federer, Novak Djokovic and Rafael Nadal are the only three players winning all the Grand Slams Tournaments the last three years. So, we are looking for their personal details.*"
   ]
  },
  {
   "cell_type": "code",
   "execution_count": 27,
   "metadata": {},
   "outputs": [],
   "source": [
    "# API look for player personal details\n",
    "def getFromApi(path,queryParams=dict()):\n",
    "    url=f\"https://www.thesportsdb.com/api/v1/json/1{path}\"\n",
    "    res = requests.get(url,params=queryParams)\n",
    "    print(res.status_code,res.url)\n",
    "    return res.json()"
   ]
  },
  {
   "cell_type": "code",
   "execution_count": 28,
   "metadata": {},
   "outputs": [
    {
     "name": "stdout",
     "output_type": "stream",
     "text": [
      "200 https://www.thesportsdb.com/api/v1/json/1/lookupplayer.php?id=34161176\n",
      "200 https://www.thesportsdb.com/api/v1/json/1/lookupplayer.php?id=34161173\n",
      "200 https://www.thesportsdb.com/api/v1/json/1/lookupplayer.php?id=34161179\n"
     ]
    }
   ],
   "source": [
    "#include params of each winner (Federer, Djokovic, Nadal)\n",
    "\n",
    "params= {\n",
    "    \"id\":\"34161176\"\n",
    "}\n",
    "Nadal = getFromApi(\"/lookupplayer.php\",queryParams=params)\n",
    "\n",
    "params= {\n",
    "    \"id\":\"34161173\"\n",
    "}\n",
    "Federer = getFromApi(\"/lookupplayer.php\",queryParams=params)\n",
    "\n",
    "params= {\n",
    "    \"id\":\"34161179\"\n",
    "}\n",
    "Djokovic = getFromApi(\"/lookupplayer.php\",queryParams=params)\n"
   ]
  },
  {
   "cell_type": "code",
   "execution_count": 29,
   "metadata": {},
   "outputs": [],
   "source": [
    "def PlayersDetails(data):\n",
    "    for player in data:\n",
    "        return{\n",
    "            \"Name\":player[\"strPlayer\"],\n",
    "            \"Nacionality\":player[\"strNationality\"],\n",
    "            \"BirthDate\":player[\"dateBorn\"],\n",
    "            \"Height\":player[\"strHeight\"]\n",
    "        }\n",
    "\n",
    "Federer=PlayersDetails(Federer[\"players\"])\n",
    "Nadal=PlayersDetails(Nadal[\"players\"])\n",
    "Djokovic=PlayersDetails(Djokovic[\"players\"])"
   ]
  },
  {
   "cell_type": "code",
   "execution_count": 30,
   "metadata": {},
   "outputs": [
    {
     "data": {
      "text/plain": [
       "[('Roger Federer', 'Switzerland', '1981-08-08', '1.85'),\n",
       " ('Novak Djokovic', 'Serbia', '1987-05-22', '1.88'),\n",
       " ('Rafael Nadal', 'Spain', '1986-06-03', '1.85 m (6 ft 1 in)')]"
      ]
     },
     "execution_count": 30,
     "metadata": {},
     "output_type": "execute_result"
    }
   ],
   "source": [
    "Winner_details=[(Federer[\"Name\"],Federer[\"Nacionality\"],Federer[\"BirthDate\"],Federer[\"Height\"]),\n",
    "                (Djokovic[\"Name\"],Djokovic[\"Nacionality\"],Djokovic[\"BirthDate\"],Djokovic[\"Height\"]),\n",
    "                (Nadal[\"Name\"],Nadal[\"Nacionality\"],Nadal[\"BirthDate\"],Nadal[\"Height\"])]\n",
    "           \n",
    "Winner_details   "
   ]
  },
  {
   "cell_type": "code",
   "execution_count": 31,
   "metadata": {},
   "outputs": [
    {
     "data": {
      "text/html": [
       "<div>\n",
       "<style scoped>\n",
       "    .dataframe tbody tr th:only-of-type {\n",
       "        vertical-align: middle;\n",
       "    }\n",
       "\n",
       "    .dataframe tbody tr th {\n",
       "        vertical-align: top;\n",
       "    }\n",
       "\n",
       "    .dataframe thead th {\n",
       "        text-align: right;\n",
       "    }\n",
       "</style>\n",
       "<table border=\"1\" class=\"dataframe\">\n",
       "  <thead>\n",
       "    <tr style=\"text-align: right;\">\n",
       "      <th></th>\n",
       "      <th>Winner</th>\n",
       "      <th>Nacionality</th>\n",
       "      <th>BithDate</th>\n",
       "      <th>Height</th>\n",
       "    </tr>\n",
       "  </thead>\n",
       "  <tbody>\n",
       "    <tr>\n",
       "      <th>0</th>\n",
       "      <td>Roger Federer</td>\n",
       "      <td>Switzerland</td>\n",
       "      <td>1981-08-08</td>\n",
       "      <td>1.85</td>\n",
       "    </tr>\n",
       "    <tr>\n",
       "      <th>1</th>\n",
       "      <td>Novak Djokovic</td>\n",
       "      <td>Serbia</td>\n",
       "      <td>1987-05-22</td>\n",
       "      <td>1.88</td>\n",
       "    </tr>\n",
       "    <tr>\n",
       "      <th>2</th>\n",
       "      <td>Rafael Nadal</td>\n",
       "      <td>Spain</td>\n",
       "      <td>1986-06-03</td>\n",
       "      <td>1.85 m (6 ft 1 in)</td>\n",
       "    </tr>\n",
       "  </tbody>\n",
       "</table>\n",
       "</div>"
      ],
      "text/plain": [
       "           Winner  Nacionality    BithDate              Height\n",
       "0   Roger Federer  Switzerland  1981-08-08                1.85\n",
       "1  Novak Djokovic       Serbia  1987-05-22                1.88\n",
       "2    Rafael Nadal        Spain  1986-06-03  1.85 m (6 ft 1 in)"
      ]
     },
     "execution_count": 31,
     "metadata": {},
     "output_type": "execute_result"
    }
   ],
   "source": [
    "data_winners=pd.DataFrame(Winner_details,columns=[\"Winner\",\"Nacionality\",\"BithDate\",\"Height\"])\n",
    "data_winners"
   ]
  },
  {
   "cell_type": "markdown",
   "metadata": {},
   "source": [
    "### WEB SCRAPPING"
   ]
  },
  {
   "cell_type": "markdown",
   "metadata": {},
   "source": [
    "**Looking for total winner revenues:**"
   ]
  },
  {
   "cell_type": "code",
   "execution_count": 32,
   "metadata": {},
   "outputs": [
    {
     "name": "stdout",
     "output_type": "stream",
     "text": [
      "<Response [200]>\n",
      "[<ul class=\"lista-desordenada\">\n",
      "<li>1. Novak Djokovic 134.684.000 dólares\r\n",
      "</li>\n",
      "<li>2. Roger Federer 126.266.005 dólares\r\n",
      "</li>\n",
      "<li>3. Rafael Nadal 110.279.818 dólares\r\n",
      "</li>\n",
      "<li>4. Andy Murray 61.199.017 dólares\r\n",
      "</li>\n",
      "<li>5. Pete Sampras 43.280.489 dólares \r\n",
      "</li>\n",
      "<li>6. Stan Wawrinka 33.000.506 dólares\r\n",
      "</li>\n",
      "<li>7. David Ferrer 31.483.911 dólares\r\n",
      "</li>\n",
      "<li>8. Andre Agassi 31.152.975 dólares\r\n",
      "</li>\n",
      "<li>9. Tomas Berdych 29.426.828 dólares\r\n",
      "</li>\n",
      "<li>10. Marin Cilic 26.881.324 dólares\r\n",
      "</li>\n",
      "<li>11. Juan Martín del Potro 25.889.586 dólares\r\n",
      "</li>\n",
      "<li>12. Boris Becker 25.080.956 dólares\r\n",
      "</li>\n",
      "</ul>]\n"
     ]
    }
   ],
   "source": [
    "#Web Scrapping to look for player revenues \n",
    "url= \"https://www.lanacion.com.ar/deportes/tenis/el-ranking-historico-ganancias-del-tenis-quien-nid2267639\"\n",
    "html=requests.get(url)\n",
    "print(html)\n",
    "soup=BeautifulSoup(html.text)\n",
    "revenues=soup.select(\".lista-desordenada\")\n",
    "print(revenues)"
   ]
  },
  {
   "cell_type": "code",
   "execution_count": 33,
   "metadata": {},
   "outputs": [
    {
     "data": {
      "text/plain": [
       "{'Roger Federer': '126.266.005 dólares',\n",
       " 'Novak Djokovic': '134.684.000 dólares',\n",
       " 'Rafael Nadal': '110.279.818 dólares'}"
      ]
     },
     "execution_count": 33,
     "metadata": {},
     "output_type": "execute_result"
    }
   ],
   "source": [
    "def PlayerRevenues(tag):\n",
    "    td=tag.find_all(\"li\")\n",
    "    return{\n",
    "        \"Roger Federer\":td[1].text.strip().replace(\"2. Roger Federer \",\"\"),\n",
    "        \"Novak Djokovic\":td[0].text.strip().replace(\"1. Novak Djokovic \",\"\"),\n",
    "        \"Rafael Nadal\":td[2].text.strip().replace(\"3. Rafael Nadal \",\"\")\n",
    "    }\n",
    "Player_revenues=PlayerRevenues(revenues[0])\n",
    "Player_revenues"
   ]
  },
  {
   "cell_type": "code",
   "execution_count": 34,
   "metadata": {},
   "outputs": [
    {
     "data": {
      "text/html": [
       "<div>\n",
       "<style scoped>\n",
       "    .dataframe tbody tr th:only-of-type {\n",
       "        vertical-align: middle;\n",
       "    }\n",
       "\n",
       "    .dataframe tbody tr th {\n",
       "        vertical-align: top;\n",
       "    }\n",
       "\n",
       "    .dataframe thead th {\n",
       "        text-align: right;\n",
       "    }\n",
       "</style>\n",
       "<table border=\"1\" class=\"dataframe\">\n",
       "  <thead>\n",
       "    <tr style=\"text-align: right;\">\n",
       "      <th></th>\n",
       "      <th>Winner</th>\n",
       "      <th>Revenues</th>\n",
       "    </tr>\n",
       "  </thead>\n",
       "  <tbody>\n",
       "    <tr>\n",
       "      <th>0</th>\n",
       "      <td>Roger Federer</td>\n",
       "      <td>126.266.005 dólares</td>\n",
       "    </tr>\n",
       "    <tr>\n",
       "      <th>1</th>\n",
       "      <td>Novak Djokovic</td>\n",
       "      <td>134.684.000 dólares</td>\n",
       "    </tr>\n",
       "    <tr>\n",
       "      <th>2</th>\n",
       "      <td>Rafael Nadal</td>\n",
       "      <td>110.279.818 dólares</td>\n",
       "    </tr>\n",
       "  </tbody>\n",
       "</table>\n",
       "</div>"
      ],
      "text/plain": [
       "           Winner             Revenues\n",
       "0   Roger Federer  126.266.005 dólares\n",
       "1  Novak Djokovic  134.684.000 dólares\n",
       "2    Rafael Nadal  110.279.818 dólares"
      ]
     },
     "execution_count": 34,
     "metadata": {},
     "output_type": "execute_result"
    }
   ],
   "source": [
    "data_revenues=pd.DataFrame([[key,Player_revenues[key]] for key in Player_revenues.keys()],columns=[\"Winner\",\"Revenues\"])\n",
    "data_revenues.head()"
   ]
  },
  {
   "cell_type": "code",
   "execution_count": 35,
   "metadata": {},
   "outputs": [
    {
     "data": {
      "text/html": [
       "<div>\n",
       "<style scoped>\n",
       "    .dataframe tbody tr th:only-of-type {\n",
       "        vertical-align: middle;\n",
       "    }\n",
       "\n",
       "    .dataframe tbody tr th {\n",
       "        vertical-align: top;\n",
       "    }\n",
       "\n",
       "    .dataframe thead th {\n",
       "        text-align: right;\n",
       "    }\n",
       "</style>\n",
       "<table border=\"1\" class=\"dataframe\">\n",
       "  <thead>\n",
       "    <tr style=\"text-align: right;\">\n",
       "      <th></th>\n",
       "      <th>Winner</th>\n",
       "      <th>Nacionality</th>\n",
       "      <th>BithDate</th>\n",
       "      <th>Height</th>\n",
       "      <th>Revenues</th>\n",
       "    </tr>\n",
       "  </thead>\n",
       "  <tbody>\n",
       "    <tr>\n",
       "      <th>0</th>\n",
       "      <td>Roger Federer</td>\n",
       "      <td>Switzerland</td>\n",
       "      <td>1981-08-08</td>\n",
       "      <td>1.85</td>\n",
       "      <td>126.266.005 dólares</td>\n",
       "    </tr>\n",
       "    <tr>\n",
       "      <th>1</th>\n",
       "      <td>Novak Djokovic</td>\n",
       "      <td>Serbia</td>\n",
       "      <td>1987-05-22</td>\n",
       "      <td>1.88</td>\n",
       "      <td>134.684.000 dólares</td>\n",
       "    </tr>\n",
       "    <tr>\n",
       "      <th>2</th>\n",
       "      <td>Rafael Nadal</td>\n",
       "      <td>Spain</td>\n",
       "      <td>1986-06-03</td>\n",
       "      <td>1.85 m (6 ft 1 in)</td>\n",
       "      <td>110.279.818 dólares</td>\n",
       "    </tr>\n",
       "  </tbody>\n",
       "</table>\n",
       "</div>"
      ],
      "text/plain": [
       "           Winner  Nacionality    BithDate              Height  \\\n",
       "0   Roger Federer  Switzerland  1981-08-08                1.85   \n",
       "1  Novak Djokovic       Serbia  1987-05-22                1.88   \n",
       "2    Rafael Nadal        Spain  1986-06-03  1.85 m (6 ft 1 in)   \n",
       "\n",
       "              Revenues  \n",
       "0  126.266.005 dólares  \n",
       "1  134.684.000 dólares  \n",
       "2  110.279.818 dólares  "
      ]
     },
     "execution_count": 35,
     "metadata": {},
     "output_type": "execute_result"
    }
   ],
   "source": [
    "data_winners = pd.merge(data_winners, data_revenues, on='Winner')\n",
    "data_winners"
   ]
  },
  {
   "cell_type": "code",
   "execution_count": 36,
   "metadata": {},
   "outputs": [],
   "source": [
    "data_winners.to_csv(\"src/winners_clean.csv\")"
   ]
  }
 ],
 "metadata": {
  "kernelspec": {
   "display_name": "Python 3",
   "language": "python",
   "name": "python3"
  },
  "language_info": {
   "codemirror_mode": {
    "name": "ipython",
    "version": 3
   },
   "file_extension": ".py",
   "mimetype": "text/x-python",
   "name": "python",
   "nbconvert_exporter": "python",
   "pygments_lexer": "ipython3",
   "version": "3.7.7"
  }
 },
 "nbformat": 4,
 "nbformat_minor": 4
}
